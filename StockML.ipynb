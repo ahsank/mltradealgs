{
  "cells": [
    {
      "cell_type": "code",
      "execution_count": null,
      "metadata": {
        "id": "iRWFgIbnzajB",
        "scrolled": true
      },
      "outputs": [],
      "source": [
        "pip install -q yahoo_fin"
      ]
    },
    {
      "cell_type": "code",
      "execution_count": null,
      "metadata": {
        "id": "0MuPGKaH3W59"
      },
      "outputs": [],
      "source": [
        "mkdir -p data results log"
      ]
    },
    {
      "cell_type": "code",
      "source": [
        "pip install  git+https://github.com/ahsank/runml#egg=runml"
      ],
      "metadata": {
        "id": "iubiwuoMvuXp"
      },
      "execution_count": null,
      "outputs": []
    },
    {
      "cell_type": "markdown",
      "metadata": {
        "id": "l4AuykWZdTyh"
      },
      "source": [
        "Todos:\n",
        "\n",
        " \n",
        "\n",
        "1.   Load previously saved model before training\n",
        "2.   Allow eval only without test/train spliting\n",
        "3.   Incremental data load\n",
        "4.    Add S&P, QQQ etc to the model\n",
        "\n",
        "\n",
        "\n",
        "\n"
      ]
    },
    {
      "cell_type": "code",
      "source": [
        "import runml.pipeline\n",
        "from runml import pipeline,findata\n",
        "#from importlib import reload\n",
        "# reload(runml.pipeline)"
      ],
      "metadata": {
        "id": "fqx81EuXwsnI"
      },
      "execution_count": null,
      "outputs": []
    },
    {
      "cell_type": "code",
      "execution_count": null,
      "metadata": {
        "id": "NRNq5x6mTG-q"
      },
      "outputs": [],
      "source": [
        "\n",
        "findata.EPOCHS=100\n",
        "\n",
        "tickers = ['RBLX', 'PTON', 'NET', 'SPOT', 'SNOW',\n",
        "            'WISH', 'SHOP',  'MELI',\n",
        "            'UBER', 'Z', 'TWTR', 'MDB', \n",
        "            'CRWD', 'GOGO', 'DOCN', 'DOCU', 'ONDS',\n",
        "            'AI', 'MQ', 'CFLT', 'STNE', 'MSCI', 'JWN', 'MPWR', 'CLOV', 'AFRM',\n",
        "            'FTCH', 'BKKT', 'HIVE', 'SFTBY', 'EVGO', 'AMSC',\n",
        "            'AMBA', 'INMD', 'ZM', 'BGFV', 'AHT', 'GLOB', 'SWAV', 'ERJ',\n",
        "            'TWLO', 'ATOM', 'GLBE',  'CRCT', 'U', \n",
        "            'MTCH', 'APO', 'OKTA', 'SMH', 'BILL', 'ABNB', 'BMBL',\n",
        "           'VRAR', 'TOST', 'MNDY', 'DNMR', 'NVAX', 'SFT',  'PAR',\n",
        "           'RACE', 'LYB', 'ASTR', 'KULR', 'ICLN', 'SMOG', 'IWM', 'QQQ',\n",
        "           'SPY', 'NARI', 'ESEA']\n",
        "mod = pipeline.RateReturnOnly(pipeline.AddDayMonth())\n",
        "df = pipeline.runModelCombined(tickers, 'ipos2a', mod, False)\n",
        "df.sort_values('Gain', ascending=False)"
      ]
    }
  ],
  "metadata": {
    "accelerator": "GPU",
    "colab": {
      "collapsed_sections": [],
      "name": "StockML.ipynb",
      "provenance": []
    },
    "kernelspec": {
      "display_name": "Python 3 (ipykernel)",
      "language": "python",
      "name": "python3"
    },
    "language_info": {
      "codemirror_mode": {
        "name": "ipython",
        "version": 3
      },
      "file_extension": ".py",
      "mimetype": "text/x-python",
      "name": "python",
      "nbconvert_exporter": "python",
      "pygments_lexer": "ipython3",
      "version": "3.9.7"
    }
  },
  "nbformat": 4,
  "nbformat_minor": 0
}