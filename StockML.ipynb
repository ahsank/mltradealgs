{
  "cells": [
    {
      "cell_type": "code",
      "execution_count": null,
      "metadata": {
        "id": "iRWFgIbnzajB",
        "scrolled": true
      },
      "outputs": [],
      "source": [
        "pip install -q yahoo_fin"
      ]
    },
    {
      "cell_type": "code",
      "execution_count": null,
      "metadata": {
        "id": "0MuPGKaH3W59"
      },
      "outputs": [],
      "source": [
        "mkdir -p data results log"
      ]
    },
    {
      "cell_type": "code",
      "source": [
        "pip install  git+https://github.com/ahsank/runml#egg=runml"
      ],
      "metadata": {
        "id": "iubiwuoMvuXp"
      },
      "execution_count": null,
      "outputs": []
    },
    {
      "cell_type": "markdown",
      "metadata": {
        "id": "l4AuykWZdTyh"
      },
      "source": [
        "Todos:\n",
        "\n",
        " \n",
        "\n",
        "1.   Load previously saved model before training\n",
        "2.   Allow eval only without test/train spliting\n",
        "3.   Incremental data load\n",
        "4.    Add S&P, QQQ etc to the model\n",
        "\n",
        "\n",
        "\n",
        "\n"
      ]
    },
    {
      "cell_type": "code",
      "source": [
        "import runml.pipeline\n",
        "from runml import pipeline,findata\n",
        "#from importlib import reload\n",
        "# reload(runml.pipeline)"
      ],
      "metadata": {
        "id": "fqx81EuXwsnI"
      },
      "execution_count": null,
      "outputs": []
    },
    {
      "cell_type": "code",
      "execution_count": null,
      "metadata": {
        "id": "NRNq5x6mTG-q"
      },
      "outputs": [],
      "source": [
        "\n",
        "findata.EPOCHS=200\n",
        "\n",
        "# Later add DDOG\n",
        "tickers = [\n",
        "           'ABNB', 'AFRM', 'AHT','AI', 'AMBA', 'AMSC', 'APO', 'ASTR', \n",
        "           'ATOM', 'BGFV', 'BILL', 'BKKT', 'BMBL', 'CBNT', 'CFLT', 'CLOV',\n",
        "           'CRCT', 'CRWD', 'DNMR', 'DOCN', 'DOCU', 'ERJ', 'ESEA', 'EVGO',\n",
        "           'FTCH', 'GLBE', 'GLOB', 'GOGO', 'HIVE', 'ILAL', 'INMD', 'JOBY',\n",
        "           'JWN', 'KULR', 'LYB', 'MDB',  'MELI', 'MNDY', 'MPWR', 'MQ', 'MSCI',\n",
        "           'MTCH', 'MYTE', 'NARI', 'NEPH', 'NET', 'NVAX', 'OKTA', 'ONDS',\n",
        "           'PAR', 'PETS', 'PTON', 'RACE','RBLX', 'SFT', 'SFTBY', 'SHOP', 'SNOW',\n",
        "           'SPOT', 'STEM', 'STNE', 'SWAV', 'TOST','TWLO', 'TWTR', 'U','UBER',\n",
        "           'ULH', 'VRAR','WISH', 'Z', 'ZM']\n",
        "mod = pipeline.RateReturnOnly(pipeline.AddDayMonth())\n",
        "df = pipeline.runModelCombined(tickers, 'ipos2b', mod, True)\n",
        "df.sort_values('Gain', ascending=False)"
      ]
    },
    {
      "cell_type": "code",
      "source": [
        "findata.EPOCHS=200\n",
        "\n",
        "tickers1 = ['ARKK', 'ARKW', 'DAPP', 'EEM', 'GBTC', 'GLD',\n",
        "            'ICLN', 'IPO', 'IPOS', 'IWM', 'JETS', 'KEMQ',\n",
        "            'MGK', 'MGV', 'MOAT',\n",
        "            'MTUM', 'NARI', 'QQQ', 'SLV','SMH', 'SMOG',\n",
        "            'SPY', 'VNQ', 'VT', 'VTI',\n",
        "            'WDIV', 'XLE', 'XLF']\n",
        "mod = pipeline.RateReturnOnly(pipeline.AddDayMonth())\n",
        "df = pipeline.runModelCombined(tickers1, 'etf2b', mod, True)\n",
        "df.sort_values('Gain', ascending=False)"
      ],
      "metadata": {
        "id": "8f5Ns68gHHpf"
      },
      "execution_count": null,
      "outputs": []
    }
  ],
  "metadata": {
    "accelerator": "GPU",
    "colab": {
      "collapsed_sections": [],
      "name": "StockML.ipynb",
      "provenance": []
    },
    "kernelspec": {
      "display_name": "Python 3 (ipykernel)",
      "language": "python",
      "name": "python3"
    },
    "language_info": {
      "codemirror_mode": {
        "name": "ipython",
        "version": 3
      },
      "file_extension": ".py",
      "mimetype": "text/x-python",
      "name": "python",
      "nbconvert_exporter": "python",
      "pygments_lexer": "ipython3",
      "version": "3.9.7"
    }
  },
  "nbformat": 4,
  "nbformat_minor": 0
}