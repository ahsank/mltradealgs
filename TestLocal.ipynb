{
 "cells": [
  {
   "cell_type": "code",
   "execution_count": null,
   "metadata": {
    "id": "iRWFgIbnzajB",
    "scrolled": true
   },
   "outputs": [],
   "source": [
    "pip install -q yahoo_fin"
   ]
  },
  {
   "cell_type": "code",
   "execution_count": null,
   "metadata": {
    "id": "0MuPGKaH3W59"
   },
   "outputs": [],
   "source": [
    "mkdir -p data results log"
   ]
  },
  {
   "cell_type": "markdown",
   "metadata": {
    "id": "l4AuykWZdTyh"
   },
   "source": [
    "Todos:\n",
    "\n",
    " \n",
    "\n",
    "1.   Load previously saved model before training\n",
    "2.   Allow eval only without test/train spliting\n",
    "3.   Incremental data load\n",
    "4.    Add S&P, QQQ etc to the model\n",
    "5. Save model to google drive\n",
    "\n",
    "\n",
    "\n",
    "\n"
   ]
  },
  {
   "cell_type": "code",
   "execution_count": null,
   "metadata": {
    "id": "fqx81EuXwsnI"
   },
   "outputs": [],
   "source": [
    "from runml import pipeline,findata"
   ]
  },
  {
   "cell_type": "code",
   "execution_count": null,
   "metadata": {},
   "outputs": [],
   "source": [
    "from importlib import reload\n",
    "reload(pipeline)\n",
    "reload(findata)"
   ]
  },
  {
   "cell_type": "code",
   "execution_count": null,
   "metadata": {
    "id": "NRNq5x6mTG-q",
    "scrolled": true
   },
   "outputs": [],
   "source": [
    "findata.EPOCHS=10\n",
    "tickers = [\n",
    "           'ABNB', 'ACLS', 'AFRM', 'AHT','AI', 'AMBA', 'AMSC', 'APO', 'ASTR', 'ATOM',\n",
    "]\n",
    "mod = pipeline.RateReturnOnly(pipeline.FeatureSeq([pipeline.AddDayMonth(), pipeline.AddVWap(), pipeline.AddMA(200)]))\n",
    "df, results = pipeline.runModelCombined(tickers, 'ipos2b', mod, False, loss=\"mean_squared_error\")"
   ]
  },
  {
   "cell_type": "code",
   "execution_count": null,
   "metadata": {},
   "outputs": [],
   "source": []
  },
  {
   "cell_type": "code",
   "execution_count": null,
   "metadata": {
    "colab": {
     "base_uri": "https://localhost:8080/",
     "height": 419
    },
    "id": "Sw99bVXNIEym",
    "outputId": "08cc14eb-ffb6-4d33-9977-66faa88c2a60"
   },
   "outputs": [],
   "source": [
    "df.sort_values('Gain', ascending=False)"
   ]
  },
  {
   "cell_type": "code",
   "execution_count": null,
   "metadata": {},
   "outputs": [],
   "source": [
    "results['ABNB'].pdata.__dict__.keys()"
   ]
  },
  {
   "cell_type": "code",
   "execution_count": null,
   "metadata": {
    "id": "8f5Ns68gHHpf"
   },
   "outputs": [],
   "source": [
    "findata.EPOCHS=10\n",
    "tickers1 = ['ARKK', 'ARKW', 'DAPP', 'DTEC', 'EEM', 'FPX',\n",
    "            'GBTC', 'GLD',\n",
    "            'ICLN', 'IJR', 'IPO', 'IPOS', 'IWM',\n",
    "            'JETS', 'KEMQ',\n",
    "            'MGK', 'MGV', 'MOAT', 'MTUM',\n",
    "            'QQQ', 'SLV','SMH', 'SMOG',\n",
    "            'SPY', 'VNQ', 'VT', 'VTI', 'WDIV',\n",
    "            'XLB', 'XLC', 'XLE', 'XLF', 'XLI', 'XLK',\n",
    "            'XLRE', 'XLU', 'XLV', 'XLY', 'XME' ]\n",
    "mod = pipeline.RateReturnOnly(pipeline.FeatureSeq([pipeline.AddDayMonth(), pipeline.AddVWap()]))\n",
    "df1 = pipeline.runModelCombined(tickers1, 'etf2b', mod, True)"
   ]
  },
  {
   "cell_type": "code",
   "execution_count": null,
   "metadata": {
    "colab": {
     "base_uri": "https://localhost:8080/",
     "height": 1000
    },
    "id": "X0wy3LeuIMg7",
    "outputId": "4a8f020c-b4fa-4036-bbf9-e6bf48af32a5"
   },
   "outputs": [],
   "source": [
    "df1.sort_values('Gain', ascending=False)"
   ]
  }
 ],
 "metadata": {
  "accelerator": "GPU",
  "colab": {
   "collapsed_sections": [],
   "name": "StockML.ipynb",
   "provenance": []
  },
  "kernelspec": {
   "display_name": "Python 3 (ipykernel)",
   "language": "python",
   "name": "python3"
  },
  "language_info": {
   "codemirror_mode": {
    "name": "ipython",
    "version": 3
   },
   "file_extension": ".py",
   "mimetype": "text/x-python",
   "name": "python",
   "nbconvert_exporter": "python",
   "pygments_lexer": "ipython3",
   "version": "3.9.7"
  }
 },
 "nbformat": 4,
 "nbformat_minor": 1
}
