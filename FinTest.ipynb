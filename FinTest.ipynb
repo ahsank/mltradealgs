{
  "nbformat": 4,
  "nbformat_minor": 0,
  "metadata": {
    "colab": {
      "provenance": [],
      "authorship_tag": "ABX9TyNEcaGujokqi5F5Jgj76ZrX",
      "include_colab_link": true
    },
    "kernelspec": {
      "name": "python3",
      "display_name": "Python 3"
    },
    "language_info": {
      "name": "python"
    }
  },
  "cells": [
    {
      "cell_type": "markdown",
      "metadata": {
        "id": "view-in-github",
        "colab_type": "text"
      },
      "source": [
        "<a href=\"https://colab.research.google.com/github/ahsank/runml/blob/main/FinTest.ipynb\" target=\"_parent\"><img src=\"https://colab.research.google.com/assets/colab-badge.svg\" alt=\"Open In Colab\"/></a>"
      ]
    },
    {
      "cell_type": "markdown",
      "source": [
        "* https://medium.com/auquan/pairs-trading-data-science-7dbedafcfe5a\n",
        "* https://medium.com/auquan/cointegration-and-stationarity-f4d14e1b3aef\n"
      ],
      "metadata": {
        "id": "dITwkwR5BtW7"
      }
    },
    {
      "cell_type": "code",
      "source": [
        "import numpy as np\n",
        "import pandas as pd\n",
        "\n",
        "import statsmodels\n",
        "import statsmodels.api as sm\n",
        "from statsmodels.tsa.stattools import coint, adfuller\n",
        "\n",
        "import matplotlib.pyplot as plt\n",
        "\n",
        "def generate_datapoint(params):\n",
        "    mu = params[0]\n",
        "    sigma = params[1]\n",
        "    return np.random.normal(mu, sigma)\n"
      ],
      "metadata": {
        "id": "B33dYMOcCidc"
      },
      "execution_count": 1,
      "outputs": []
    },
    {
      "cell_type": "code",
      "source": [
        "import numpy as np\n",
        "import pandas as pd\n",
        "\n",
        "import statsmodels\n",
        "# Cointegration\n",
        "from statsmodels.tsa.stattools import coint\n",
        "# just set the seed for the random number generator\n",
        "np.random.seed(107)\n",
        "\n",
        "import matplotlib.pyplot as plt\n"
      ],
      "metadata": {
        "id": "leB2gWcIB7xa"
      },
      "execution_count": null,
      "outputs": []
    }
  ]
}